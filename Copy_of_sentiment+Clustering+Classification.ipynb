{
  "nbformat": 4,
  "nbformat_minor": 0,
  "metadata": {
    "colab": {
      "name": "Copy of sentiment+Clustering+Classification.ipynb",
      "provenance": [],
      "toc_visible": true,
      "include_colab_link": true
    },
    "kernelspec": {
      "name": "python3",
      "display_name": "Python 3"
    }
  },
  "cells": [
    {
      "cell_type": "markdown",
      "metadata": {
        "id": "view-in-github",
        "colab_type": "text"
      },
      "source": [
        "<a href=\"https://colab.research.google.com/github/TheRiddler01/WebStackPage.github.io/blob/master/Copy_of_sentiment%2BClustering%2BClassification.ipynb\" target=\"_parent\"><img src=\"https://colab.research.google.com/assets/colab-badge.svg\" alt=\"Open In Colab\"/></a>"
      ]
    },
    {
      "cell_type": "code",
      "metadata": {
        "id": "tjDBWACt8LCG",
        "colab_type": "code",
        "colab": {}
      },
      "source": [
        ""
      ],
      "execution_count": 0,
      "outputs": []
    },
    {
      "cell_type": "code",
      "metadata": {
        "id": "TVfnBSjx8oHz",
        "colab_type": "code",
        "colab": {}
      },
      "source": [
        "from sklearn.cluster import KMeans\n",
        "import numpy as np\n",
        "from sklearn.feature_extraction.text import TfidfVectorizer\n",
        "from sklearn.model_selection import train_test_split\n",
        "import pandas as pd \n",
        "from sklearn.neighbors import KNeighborsClassifier\n",
        "from sklearn.metrics import accuracy_score\n"
      ],
      "execution_count": 0,
      "outputs": []
    },
    {
      "cell_type": "code",
      "metadata": {
        "id": "KXgmOGP7AvXK",
        "colab_type": "code",
        "colab": {}
      },
      "source": [
        "#reading the file\n",
        "data=pd.read_csv('Datasen.csv')"
      ],
      "execution_count": 0,
      "outputs": []
    },
    {
      "cell_type": "code",
      "metadata": {
        "id": "IycfgySyA9C5",
        "colab_type": "code",
        "outputId": "3d86009e-645c-4a74-8e21-4abd2f97de02",
        "colab": {
          "base_uri": "https://localhost:8080/",
          "height": 203
        }
      },
      "source": [
        "#Data exploration \n",
        "data.head()"
      ],
      "execution_count": 0,
      "outputs": [
        {
          "output_type": "execute_result",
          "data": {
            "text/html": [
              "<div>\n",
              "<style scoped>\n",
              "    .dataframe tbody tr th:only-of-type {\n",
              "        vertical-align: middle;\n",
              "    }\n",
              "\n",
              "    .dataframe tbody tr th {\n",
              "        vertical-align: top;\n",
              "    }\n",
              "\n",
              "    .dataframe thead th {\n",
              "        text-align: right;\n",
              "    }\n",
              "</style>\n",
              "<table border=\"1\" class=\"dataframe\">\n",
              "  <thead>\n",
              "    <tr style=\"text-align: right;\">\n",
              "      <th></th>\n",
              "      <th>Review</th>\n",
              "      <th>Review Sentiment</th>\n",
              "    </tr>\n",
              "  </thead>\n",
              "  <tbody>\n",
              "    <tr>\n",
              "      <th>0</th>\n",
              "      <td>A great place for Irish music great bar and fu...</td>\n",
              "      <td>Positive</td>\n",
              "    </tr>\n",
              "    <tr>\n",
              "      <th>1</th>\n",
              "      <td>Absolutely exceptional food and staff were ver...</td>\n",
              "      <td>Positive</td>\n",
              "    </tr>\n",
              "    <tr>\n",
              "      <th>2</th>\n",
              "      <td>Cant remember pizza better than this anywhere ...</td>\n",
              "      <td>Positive</td>\n",
              "    </tr>\n",
              "    <tr>\n",
              "      <th>3</th>\n",
              "      <td>Cocktails were very impressive and a perfect e...</td>\n",
              "      <td>Positive</td>\n",
              "    </tr>\n",
              "    <tr>\n",
              "      <th>4</th>\n",
              "      <td>Decent clean and fast Food wasnt bad but maybe...</td>\n",
              "      <td>Positive</td>\n",
              "    </tr>\n",
              "  </tbody>\n",
              "</table>\n",
              "</div>"
            ],
            "text/plain": [
              "                                              Review Review Sentiment\n",
              "0  A great place for Irish music great bar and fu...         Positive\n",
              "1  Absolutely exceptional food and staff were ver...         Positive\n",
              "2  Cant remember pizza better than this anywhere ...         Positive\n",
              "3  Cocktails were very impressive and a perfect e...         Positive\n",
              "4  Decent clean and fast Food wasnt bad but maybe...         Positive"
            ]
          },
          "metadata": {
            "tags": []
          },
          "execution_count": 48
        }
      ]
    },
    {
      "cell_type": "code",
      "metadata": {
        "id": "273zl-1UBaBQ",
        "colab_type": "code",
        "colab": {}
      },
      "source": [
        "train_data,test_data=train_test_split(data,test_size=0.33,random_state=24)"
      ],
      "execution_count": 0,
      "outputs": []
    },
    {
      "cell_type": "code",
      "metadata": {
        "id": "OgeIV70uBgo3",
        "colab_type": "code",
        "outputId": "1fd1340e-c0a1-4398-ee8d-d6ecacd20c70",
        "colab": {
          "base_uri": "https://localhost:8080/",
          "height": 34
        }
      },
      "source": [
        "print(len(train_data))"
      ],
      "execution_count": 0,
      "outputs": [
        {
          "output_type": "stream",
          "text": [
            "9\n"
          ],
          "name": "stdout"
        }
      ]
    },
    {
      "cell_type": "code",
      "metadata": {
        "id": "gl4TUWczBnEe",
        "colab_type": "code",
        "outputId": "6169eb4a-bfce-4127-affe-aa8b4c8e04ec",
        "colab": {
          "base_uri": "https://localhost:8080/",
          "height": 34
        }
      },
      "source": [
        "print(len(test_data))"
      ],
      "execution_count": 0,
      "outputs": [
        {
          "output_type": "stream",
          "text": [
            "5\n"
          ],
          "name": "stdout"
        }
      ]
    },
    {
      "cell_type": "code",
      "metadata": {
        "id": "AuAcdU3PCEgm",
        "colab_type": "code",
        "outputId": "abf245f9-b2e0-4783-c513-066694640f52",
        "colab": {
          "base_uri": "https://localhost:8080/",
          "height": 120
        }
      },
      "source": [
        "print(train_data.head())"
      ],
      "execution_count": 0,
      "outputs": [
        {
          "output_type": "stream",
          "text": [
            "                                               Review Review Sentiment\n",
            "12  We got the early bird Dont think its a place o...         Negative\n",
            "4   Decent clean and fast Food wasnt bad but maybe...         Positive\n",
            "8   I went there based on the online menu It bore ...         Negative\n",
            "9                     Slowest fast food on the planet         Negative\n",
            "1   Absolutely exceptional food and staff were ver...         Positive\n"
          ],
          "name": "stdout"
        }
      ]
    },
    {
      "cell_type": "code",
      "metadata": {
        "id": "d8G2RRQ3CUtF",
        "colab_type": "code",
        "colab": {}
      },
      "source": [
        "Review_train_data=train_data['Review'].values\n",
        "Review_test_data=test_data['Review'].values"
      ],
      "execution_count": 0,
      "outputs": []
    },
    {
      "cell_type": "code",
      "metadata": {
        "id": "pq4AV9JTCnLT",
        "colab_type": "code",
        "colab": {}
      },
      "source": [
        "#converting text into numbers or vectors\n",
        "vectorizer_object=TfidfVectorizer(max_features=5)"
      ],
      "execution_count": 0,
      "outputs": []
    },
    {
      "cell_type": "code",
      "metadata": {
        "id": "zwNpfKwNC_Wy",
        "colab_type": "code",
        "colab": {}
      },
      "source": [
        "train_vector=vectorizer_object.fit_transform(Review_train_data)"
      ],
      "execution_count": 0,
      "outputs": []
    },
    {
      "cell_type": "code",
      "metadata": {
        "id": "tpLTLxKADIP6",
        "colab_type": "code",
        "colab": {}
      },
      "source": [
        "test_vector=vectorizer_object.fit_transform(Review_test_data)"
      ],
      "execution_count": 0,
      "outputs": []
    },
    {
      "cell_type": "code",
      "metadata": {
        "id": "i9JY8xCVDba5",
        "colab_type": "code",
        "colab": {}
      },
      "source": [
        "K_mean_object=KMeans(n_clusters=2)"
      ],
      "execution_count": 0,
      "outputs": []
    },
    {
      "cell_type": "code",
      "metadata": {
        "id": "jaOXFBZpONR8",
        "colab_type": "code",
        "outputId": "3ce3c286-0d7f-4736-d069-bf1c28395804",
        "colab": {
          "base_uri": "https://localhost:8080/",
          "height": 68
        }
      },
      "source": [
        "K_mean_object.fit(train_vector)"
      ],
      "execution_count": 0,
      "outputs": [
        {
          "output_type": "execute_result",
          "data": {
            "text/plain": [
              "KMeans(algorithm='auto', copy_x=True, init='k-means++', max_iter=300,\n",
              "       n_clusters=2, n_init=10, n_jobs=None, precompute_distances='auto',\n",
              "       random_state=None, tol=0.0001, verbose=0)"
            ]
          },
          "metadata": {
            "tags": []
          },
          "execution_count": 83
        }
      ]
    },
    {
      "cell_type": "code",
      "metadata": {
        "id": "RNz_WfoAOVXT",
        "colab_type": "code",
        "outputId": "dbae0485-1fad-4a78-fc67-d315dd4299ce",
        "colab": {
          "base_uri": "https://localhost:8080/",
          "height": 34
        }
      },
      "source": [
        "print(K_mean_object.labels_)"
      ],
      "execution_count": 0,
      "outputs": [
        {
          "output_type": "stream",
          "text": [
            "[1 0 1 1 0 1 0 0 1]\n"
          ],
          "name": "stdout"
        }
      ]
    },
    {
      "cell_type": "code",
      "metadata": {
        "id": "F-o_r1KVObib",
        "colab_type": "code",
        "outputId": "6c4cd8a6-d121-4334-d5b8-182c0b621252",
        "colab": {
          "base_uri": "https://localhost:8080/",
          "height": 34
        }
      },
      "source": [
        "K_mean_object.predict(test_vector)"
      ],
      "execution_count": 0,
      "outputs": [
        {
          "output_type": "execute_result",
          "data": {
            "text/plain": [
              "array([1, 1, 1, 1, 0], dtype=int32)"
            ]
          },
          "metadata": {
            "tags": []
          },
          "execution_count": 85
        }
      ]
    },
    {
      "cell_type": "code",
      "metadata": {
        "id": "XDGdLpfEOsDC",
        "colab_type": "code",
        "outputId": "06ab197b-ca70-4dae-b4d7-8c4b1f85258d",
        "colab": {
          "base_uri": "https://localhost:8080/",
          "height": 123
        }
      },
      "source": [
        "print(Review_test_data)"
      ],
      "execution_count": 0,
      "outputs": [
        {
          "output_type": "stream",
          "text": [
            "['Poor poor poor\\n\\nI ordered the breakfast It arrived 30 mins later Wrong order I asked for friends eggs The staff were rude and made it seem like I was a hindrance to them'\n",
            " 'I received a voucher as a Christmas present for 3 course meal for 2 When I got to the restaurant there was a special menu for who had the vouchers This menu had very limited choice choice of 3 starters 3 mains and 3 desserts Noting I had pre picked out was on the menu I advise the waitress that I was annoyed that it did not specify on the voucher that we would have to order from a special menu She said there was nothing she could do How can a voucher state you are saving money when you cannot order of the regular menu We had calamari this was overdone and the chicken wings were not very nice We had the seafood linguine not much seafood and garlic bread was tock hard The waitress was very nice but the service was very slow we were in the restaurant for over 2hrs and waited 20mins before our payment for the bill I had my 9yr old son with me so it was a challenge to keep him entertained in this time'\n",
            " 'Its just ok Thats the best I can say I came in on a Monday afternoon There wasnt much of a crowd but service was still pretty slow waiting 20 minutes to receive the bill after asking I got fish and chips which were pretty bland A bit more seasoning would have gone a long way but these were absolutely flavorless \\n\\nDont think I would return'\n",
            " 'Excellent customer service Our waitress was attentive Delicious food Ambience was perfect Shows this place has great management'\n",
            " 'Excellent Greek food Great variety and plenty of options for a vegetarian A welcome respite from all the heavy potato and bread laden Irish fare']\n"
          ],
          "name": "stdout"
        }
      ]
    },
    {
      "cell_type": "code",
      "metadata": {
        "id": "59Y88ajaPO7T",
        "colab_type": "code",
        "colab": {}
      },
      "source": [
        "# Classification \n",
        "# labels\n",
        "labels_train=train_data['Review Sentiment'].values\n",
        "labels_test=test_data['Review Sentiment'].values"
      ],
      "execution_count": 0,
      "outputs": []
    },
    {
      "cell_type": "code",
      "metadata": {
        "id": "9PVdSQdkUUpZ",
        "colab_type": "code",
        "colab": {}
      },
      "source": [
        "#test_vector\n",
        "#train_vector\n",
        "#labels_test\n",
        "#labels_train"
      ],
      "execution_count": 0,
      "outputs": []
    },
    {
      "cell_type": "code",
      "metadata": {
        "id": "IWwr8dtBUwTM",
        "colab_type": "code",
        "colab": {}
      },
      "source": [
        "Knn_object=KNeighborsClassifier(n_neighbors=3)"
      ],
      "execution_count": 0,
      "outputs": []
    },
    {
      "cell_type": "code",
      "metadata": {
        "id": "m-aqKpajU8Rn",
        "colab_type": "code",
        "outputId": "93aff85b-e0a7-40a4-9904-cb2c10c63d26",
        "colab": {
          "base_uri": "https://localhost:8080/",
          "height": 68
        }
      },
      "source": [
        "Knn_object.fit(train_vector,labels_train)"
      ],
      "execution_count": 0,
      "outputs": [
        {
          "output_type": "execute_result",
          "data": {
            "text/plain": [
              "KNeighborsClassifier(algorithm='auto', leaf_size=30, metric='minkowski',\n",
              "                     metric_params=None, n_jobs=None, n_neighbors=3, p=2,\n",
              "                     weights='uniform')"
            ]
          },
          "metadata": {
            "tags": []
          },
          "execution_count": 92
        }
      ]
    },
    {
      "cell_type": "code",
      "metadata": {
        "id": "VveAbueCVNp3",
        "colab_type": "code",
        "colab": {}
      },
      "source": [
        "results=Knn_object.predict(test_vector)"
      ],
      "execution_count": 0,
      "outputs": []
    },
    {
      "cell_type": "code",
      "metadata": {
        "id": "O1jKXsNtVVmm",
        "colab_type": "code",
        "outputId": "84f6c7b8-b3c6-4fe0-9f78-30c74b47aa85",
        "colab": {
          "base_uri": "https://localhost:8080/",
          "height": 34
        }
      },
      "source": [
        "print(results)"
      ],
      "execution_count": 0,
      "outputs": [
        {
          "output_type": "stream",
          "text": [
            "['Negative' 'Negative' 'Negative' 'Positive' 'Positive']\n"
          ],
          "name": "stdout"
        }
      ]
    },
    {
      "cell_type": "code",
      "metadata": {
        "id": "QRPZ6InvVZjH",
        "colab_type": "code",
        "outputId": "64b3c543-83fc-40b2-fb52-24dc4f0a705c",
        "colab": {
          "base_uri": "https://localhost:8080/",
          "height": 123
        }
      },
      "source": [
        "print(Review_test_data)"
      ],
      "execution_count": 0,
      "outputs": [
        {
          "output_type": "stream",
          "text": [
            "['Poor poor poor\\n\\nI ordered the breakfast It arrived 30 mins later Wrong order I asked for friends eggs The staff were rude and made it seem like I was a hindrance to them'\n",
            " 'I received a voucher as a Christmas present for 3 course meal for 2 When I got to the restaurant there was a special menu for who had the vouchers This menu had very limited choice choice of 3 starters 3 mains and 3 desserts Noting I had pre picked out was on the menu I advise the waitress that I was annoyed that it did not specify on the voucher that we would have to order from a special menu She said there was nothing she could do How can a voucher state you are saving money when you cannot order of the regular menu We had calamari this was overdone and the chicken wings were not very nice We had the seafood linguine not much seafood and garlic bread was tock hard The waitress was very nice but the service was very slow we were in the restaurant for over 2hrs and waited 20mins before our payment for the bill I had my 9yr old son with me so it was a challenge to keep him entertained in this time'\n",
            " 'Its just ok Thats the best I can say I came in on a Monday afternoon There wasnt much of a crowd but service was still pretty slow waiting 20 minutes to receive the bill after asking I got fish and chips which were pretty bland A bit more seasoning would have gone a long way but these were absolutely flavorless \\n\\nDont think I would return'\n",
            " 'Excellent customer service Our waitress was attentive Delicious food Ambience was perfect Shows this place has great management'\n",
            " 'Excellent Greek food Great variety and plenty of options for a vegetarian A welcome respite from all the heavy potato and bread laden Irish fare']\n"
          ],
          "name": "stdout"
        }
      ]
    },
    {
      "cell_type": "code",
      "metadata": {
        "id": "UDBgBohAVeWO",
        "colab_type": "code",
        "colab": {}
      },
      "source": [
        "acc=accuracy_score(labels_test,results)"
      ],
      "execution_count": 0,
      "outputs": []
    },
    {
      "cell_type": "code",
      "metadata": {
        "id": "9lTJvsd4WrJD",
        "colab_type": "code",
        "outputId": "7100b9fe-a294-491e-8400-faafc938ec42",
        "colab": {
          "base_uri": "https://localhost:8080/",
          "height": 34
        }
      },
      "source": [
        "print(acc*100)"
      ],
      "execution_count": 0,
      "outputs": [
        {
          "output_type": "stream",
          "text": [
            "100.0\n"
          ],
          "name": "stdout"
        }
      ]
    },
    {
      "cell_type": "code",
      "metadata": {
        "id": "MzPYFRrIWtVC",
        "colab_type": "code",
        "colab": {}
      },
      "source": [
        ""
      ],
      "execution_count": 0,
      "outputs": []
    }
  ]
}